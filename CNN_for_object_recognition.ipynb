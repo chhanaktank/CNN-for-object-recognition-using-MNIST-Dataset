{
  "nbformat": 4,
  "nbformat_minor": 0,
  "metadata": {
    "colab": {
      "name": "CNN for object recognition.ipynb",
      "provenance": []
    },
    "kernelspec": {
      "display_name": "Python 3",
      "language": "python",
      "name": "python3"
    },
    "language_info": {
      "codemirror_mode": {
        "name": "ipython",
        "version": 3
      },
      "file_extension": ".py",
      "mimetype": "text/x-python",
      "name": "python",
      "nbconvert_exporter": "python",
      "pygments_lexer": "ipython3",
      "version": "3.8.5"
    }
  },
  "cells": [
    {
      "cell_type": "markdown",
      "metadata": {
        "id": "NhcVdjF1V6FM"
      },
      "source": [
        "\n",
        "### Aim:CNN for object recognition\n"
      ]
    },
    {
      "cell_type": "markdown",
      "metadata": {
        "id": "i-dPSwqiV6FT"
      },
      "source": [
        "---"
      ]
    },
    {
      "cell_type": "markdown",
      "metadata": {
        "id": "VpdJSWGFV6FU"
      },
      "source": [
        "## Algorithm \n",
        "1] Import dataset and libraries   \n",
        "2] Pre-processing   \n",
        "3] Re-shaing  \n",
        "4] Training the model  \n",
        "5] Evaluating the model  "
      ]
    },
    {
      "cell_type": "markdown",
      "metadata": {
        "id": "1n2gxv3OV6FV"
      },
      "source": [
        "> ## 1] Importing Dataset & libraries"
      ]
    },
    {
      "cell_type": "code",
      "metadata": {
        "id": "J9Kh_pdcV6FV",
        "outputId": "0ec09b1e-5e07-40f9-a2c2-5676f3521ee4"
      },
      "source": [
        "pip install keras"
      ],
      "execution_count": null,
      "outputs": [
        {
          "name": "stdout",
          "output_type": "stream",
          "text": [
            "Collecting keras\n",
            "  Downloading keras-2.6.0-py2.py3-none-any.whl (1.3 MB)\n",
            "Installing collected packages: keras\n",
            "Successfully installed keras-2.6.0\n",
            "Note: you may need to restart the kernel to use updated packages.\n"
          ]
        }
      ]
    },
    {
      "cell_type": "code",
      "metadata": {
        "id": "MpSwSwKVV6FY"
      },
      "source": [
        "pip install tensorflow"
      ],
      "execution_count": null,
      "outputs": []
    },
    {
      "cell_type": "markdown",
      "metadata": {
        "id": "oV-tV_u6V6FZ"
      },
      "source": [
        ">The MNIST database of handwritten digits, available from this page, has a training set of 60,000 examples, and a test set of 10,000 examples. It is a subset of a larger set available from NIST. The digits have been size-normalized and centered in a fixed-size image."
      ]
    },
    {
      "cell_type": "code",
      "metadata": {
        "colab": {
          "base_uri": "https://localhost:8080/"
        },
        "id": "y4pGGwFZ1Cig",
        "outputId": "b52fc548-4f8d-44a1-f073-8af05a386a87"
      },
      "source": [
        "from keras.datasets import mnist\n",
        "\n",
        "(x_train, y_train),(x_test, y_test) = mnist.load_data()"
      ],
      "execution_count": null,
      "outputs": [
        {
          "name": "stdout",
          "output_type": "stream",
          "text": [
            "Downloading data from https://storage.googleapis.com/tensorflow/tf-keras-datasets/mnist.npz\n",
            "11493376/11490434 [==============================] - 1s 0us/step\n",
            "11501568/11490434 [==============================] - 1s 0us/step\n"
          ]
        }
      ]
    },
    {
      "cell_type": "code",
      "metadata": {
        "id": "Q6kdjMj_8iZm"
      },
      "source": [
        "import matplotlib.pyplot as plt\n",
        "%matplotlib inline"
      ],
      "execution_count": null,
      "outputs": []
    },
    {
      "cell_type": "code",
      "metadata": {
        "colab": {
          "base_uri": "https://localhost:8080/"
        },
        "id": "PTSzaFlQ8iWL",
        "outputId": "0f2b804a-16ca-4733-9f5a-1619d22eec29"
      },
      "source": [
        "x_train.shape"
      ],
      "execution_count": null,
      "outputs": [
        {
          "data": {
            "text/plain": [
              "(60000, 28, 28)"
            ]
          },
          "execution_count": 8,
          "metadata": {},
          "output_type": "execute_result"
        }
      ]
    },
    {
      "cell_type": "code",
      "metadata": {
        "colab": {
          "base_uri": "https://localhost:8080/"
        },
        "id": "ozb38DPb8iTS",
        "outputId": "57f33fb8-1ff1-4675-a1c9-b9f584d9f811"
      },
      "source": [
        "y_train.shape"
      ],
      "execution_count": null,
      "outputs": [
        {
          "data": {
            "text/plain": [
              "(60000,)"
            ]
          },
          "execution_count": 9,
          "metadata": {},
          "output_type": "execute_result"
        }
      ]
    },
    {
      "cell_type": "code",
      "metadata": {
        "colab": {
          "base_uri": "https://localhost:8080/"
        },
        "id": "pB0pDdS08iQq",
        "outputId": "da9379c9-d710-48d2-9425-d18c8b6e9fc4"
      },
      "source": [
        "x_test.shape"
      ],
      "execution_count": null,
      "outputs": [
        {
          "data": {
            "text/plain": [
              "(10000, 28, 28)"
            ]
          },
          "execution_count": 10,
          "metadata": {},
          "output_type": "execute_result"
        }
      ]
    },
    {
      "cell_type": "code",
      "metadata": {
        "colab": {
          "base_uri": "https://localhost:8080/"
        },
        "id": "-z4qs9uD9Lw2",
        "outputId": "87cc7336-2771-4cf4-a5c7-4e90943c87ed"
      },
      "source": [
        "y_test.shape"
      ],
      "execution_count": null,
      "outputs": [
        {
          "data": {
            "text/plain": [
              "(10000,)"
            ]
          },
          "execution_count": 11,
          "metadata": {},
          "output_type": "execute_result"
        }
      ]
    },
    {
      "cell_type": "code",
      "metadata": {
        "id": "98em5CrB9RtR"
      },
      "source": [
        "single_image = x_train[10]"
      ],
      "execution_count": null,
      "outputs": []
    },
    {
      "cell_type": "code",
      "metadata": {
        "colab": {
          "base_uri": "https://localhost:8080/"
        },
        "id": "ZDKU0KFw9Rpb",
        "outputId": "7c00793b-597b-48b7-c318-6ff3c2b31bf4"
      },
      "source": [
        "single_image"
      ],
      "execution_count": null,
      "outputs": [
        {
          "data": {
            "text/plain": [
              "array([[  0,   0,   0,   0,   0,   0,   0,   0,   0,   0,   0,   0,   0,\n",
              "          0,   0,   0,   0,   0,   0,   0,   0,   0,   0,   0,   0,   0,\n",
              "          0,   0],\n",
              "       [  0,   0,   0,   0,   0,   0,   0,   0,   0,   0,   0,   0,   0,\n",
              "          0,   0,   0,   0,   0,   0,   0,   0,   0,   0,   0,   0,   0,\n",
              "          0,   0],\n",
              "       [  0,   0,   0,   0,   0,   0,   0,   0,   0,   0,   0,   0,   0,\n",
              "          0,   0,   0,   0,   0,   0,   0,   0,   0,   0,   0,   0,   0,\n",
              "          0,   0],\n",
              "       [  0,   0,   0,   0,   0,   0,   0,   0,   0,   0,   0,   0,   0,\n",
              "          0,   0,   0,   0,   0,   0,   0,   0,   0,   0,   0,   0,   0,\n",
              "          0,   0],\n",
              "       [  0,   0,   0,   0,   0,   0,   0,   0,   0,   0,   0,  42, 118,\n",
              "        219, 166, 118, 118,   6,   0,   0,   0,   0,   0,   0,   0,   0,\n",
              "          0,   0],\n",
              "       [  0,   0,   0,   0,   0,   0,   0,   0,   0,   0, 103, 242, 254,\n",
              "        254, 254, 254, 254,  66,   0,   0,   0,   0,   0,   0,   0,   0,\n",
              "          0,   0],\n",
              "       [  0,   0,   0,   0,   0,   0,   0,   0,   0,   0,  18, 232, 254,\n",
              "        254, 254, 254, 254, 238,  70,   0,   0,   0,   0,   0,   0,   0,\n",
              "          0,   0],\n",
              "       [  0,   0,   0,   0,   0,   0,   0,   0,   0,   0,   0, 104, 244,\n",
              "        254, 224, 254, 254, 254, 141,   0,   0,   0,   0,   0,   0,   0,\n",
              "          0,   0],\n",
              "       [  0,   0,   0,   0,   0,   0,   0,   0,   0,   0,   0,   0, 207,\n",
              "        254, 210, 254, 254, 254,  34,   0,   0,   0,   0,   0,   0,   0,\n",
              "          0,   0],\n",
              "       [  0,   0,   0,   0,   0,   0,   0,   0,   0,   0,   0,   0,  84,\n",
              "        206, 254, 254, 254, 254,  41,   0,   0,   0,   0,   0,   0,   0,\n",
              "          0,   0],\n",
              "       [  0,   0,   0,   0,   0,   0,   0,   0,   0,   0,   0,   0,   0,\n",
              "         24, 209, 254, 254, 254, 171,   0,   0,   0,   0,   0,   0,   0,\n",
              "          0,   0],\n",
              "       [  0,   0,   0,   0,   0,   0,   0,   0,   0,   0,   0,   0,  91,\n",
              "        137, 253, 254, 254, 254, 112,   0,   0,   0,   0,   0,   0,   0,\n",
              "          0,   0],\n",
              "       [  0,   0,   0,   0,   0,   0,   0,   0,   0,   0,  40, 214, 250,\n",
              "        254, 254, 254, 254, 254,  34,   0,   0,   0,   0,   0,   0,   0,\n",
              "          0,   0],\n",
              "       [  0,   0,   0,   0,   0,   0,   0,   0,   0,   0,  81, 247, 254,\n",
              "        254, 254, 254, 254, 254, 146,   0,   0,   0,   0,   0,   0,   0,\n",
              "          0,   0],\n",
              "       [  0,   0,   0,   0,   0,   0,   0,   0,   0,   0,   0, 110, 246,\n",
              "        254, 254, 254, 254, 254, 171,   0,   0,   0,   0,   0,   0,   0,\n",
              "          0,   0],\n",
              "       [  0,   0,   0,   0,   0,   0,   0,   0,   0,   0,   0,   0,  73,\n",
              "         89,  89,  93, 240, 254, 171,   0,   0,   0,   0,   0,   0,   0,\n",
              "          0,   0],\n",
              "       [  0,   0,   0,   0,   0,   0,   0,   0,   0,   0,   0,   0,   0,\n",
              "          0,   0,   1, 128, 254, 219,  31,   0,   0,   0,   0,   0,   0,\n",
              "          0,   0],\n",
              "       [  0,   0,   0,   0,   0,   0,   0,   0,   0,   0,   0,   0,   0,\n",
              "          0,   0,   7, 254, 254, 214,  28,   0,   0,   0,   0,   0,   0,\n",
              "          0,   0],\n",
              "       [  0,   0,   0,   0,   0,   0,   0,   0,   0,   0,   0,   0,   0,\n",
              "          0,   0, 138, 254, 254, 116,   0,   0,   0,   0,   0,   0,   0,\n",
              "          0,   0],\n",
              "       [  0,   0,   0,   0,   0,   0,  19, 177,  90,   0,   0,   0,   0,\n",
              "          0,  25, 240, 254, 254,  34,   0,   0,   0,   0,   0,   0,   0,\n",
              "          0,   0],\n",
              "       [  0,   0,   0,   0,   0,   0, 164, 254, 215,  63,  36,   0,  51,\n",
              "         89, 206, 254, 254, 139,   8,   0,   0,   0,   0,   0,   0,   0,\n",
              "          0,   0],\n",
              "       [  0,   0,   0,   0,   0,   0,  57, 197, 254, 254, 222, 180, 241,\n",
              "        254, 254, 253, 213,  11,   0,   0,   0,   0,   0,   0,   0,   0,\n",
              "          0,   0],\n",
              "       [  0,   0,   0,   0,   0,   0,   0, 140, 105, 254, 254, 254, 254,\n",
              "        254, 254, 236,   0,   0,   0,   0,   0,   0,   0,   0,   0,   0,\n",
              "          0,   0],\n",
              "       [  0,   0,   0,   0,   0,   0,   0,   0,   7, 117, 117, 165, 254,\n",
              "        254, 239,  50,   0,   0,   0,   0,   0,   0,   0,   0,   0,   0,\n",
              "          0,   0],\n",
              "       [  0,   0,   0,   0,   0,   0,   0,   0,   0,   0,   0,   0,   0,\n",
              "          0,   0,   0,   0,   0,   0,   0,   0,   0,   0,   0,   0,   0,\n",
              "          0,   0],\n",
              "       [  0,   0,   0,   0,   0,   0,   0,   0,   0,   0,   0,   0,   0,\n",
              "          0,   0,   0,   0,   0,   0,   0,   0,   0,   0,   0,   0,   0,\n",
              "          0,   0],\n",
              "       [  0,   0,   0,   0,   0,   0,   0,   0,   0,   0,   0,   0,   0,\n",
              "          0,   0,   0,   0,   0,   0,   0,   0,   0,   0,   0,   0,   0,\n",
              "          0,   0],\n",
              "       [  0,   0,   0,   0,   0,   0,   0,   0,   0,   0,   0,   0,   0,\n",
              "          0,   0,   0,   0,   0,   0,   0,   0,   0,   0,   0,   0,   0,\n",
              "          0,   0]], dtype=uint8)"
            ]
          },
          "execution_count": 13,
          "metadata": {},
          "output_type": "execute_result"
        }
      ]
    },
    {
      "cell_type": "code",
      "metadata": {
        "colab": {
          "base_uri": "https://localhost:8080/"
        },
        "id": "-jyJasgN9Rmg",
        "outputId": "52a5b9a4-7a56-4115-9578-c8bb2953be9e"
      },
      "source": [
        "single_image.shape"
      ],
      "execution_count": null,
      "outputs": [
        {
          "data": {
            "text/plain": [
              "(28, 28)"
            ]
          },
          "execution_count": 14,
          "metadata": {},
          "output_type": "execute_result"
        }
      ]
    },
    {
      "cell_type": "code",
      "metadata": {
        "colab": {
          "base_uri": "https://localhost:8080/",
          "height": 283
        },
        "id": "bWKncQR59RjP",
        "outputId": "a17e1bcf-3fd5-4d58-f9c0-f75f96a04bda"
      },
      "source": [
        "plt.imshow(single_image)"
      ],
      "execution_count": null,
      "outputs": [
        {
          "data": {
            "text/plain": [
              "<matplotlib.image.AxesImage at 0x20feadacee0>"
            ]
          },
          "execution_count": 15,
          "metadata": {},
          "output_type": "execute_result"
        },
        {
          "data": {
            "image/png": "[encoded data removed]",
            "text/plain": [
              "<Figure size 432x288 with 1 Axes>"
            ]
          },
          "metadata": {
            "needs_background": "light"
          },
          "output_type": "display_data"
        }
      ]
    },
    {
      "cell_type": "code",
      "metadata": {
        "colab": {
          "base_uri": "https://localhost:8080/",
          "height": 283
        },
        "id": "SBFqMf529uxE",
        "outputId": "ad1f6826-39cd-4767-c2f5-7f749cf8f905"
      },
      "source": [
        "plt.imshow(single_image,cmap='gray')"
      ],
      "execution_count": null,
      "outputs": [
        {
          "data": {
            "text/plain": [
              "<matplotlib.image.AxesImage at 0x20feb0e1490>"
            ]
          },
          "execution_count": 16,
          "metadata": {},
          "output_type": "execute_result"
        },
        {
          "data": {
            "image/png": "[encoded data removed]",
            "text/plain": [
              "<Figure size 432x288 with 1 Axes>"
            ]
          },
          "metadata": {
            "needs_background": "light"
          },
          "output_type": "display_data"
        }
      ]
    },
    {
      "cell_type": "markdown",
      "metadata": {
        "id": "rZQ4rEN6954L"
      },
      "source": [
        "> ## 2] Preprocessing data"
      ]
    },
    {
      "cell_type": "code",
      "metadata": {
        "colab": {
          "base_uri": "https://localhost:8080/"
        },
        "id": "Ad0gIdSe9utn",
        "outputId": "fd8e3d52-358f-4344-a4b0-70aebfb8c13b"
      },
      "source": [
        "y_train"
      ],
      "execution_count": null,
      "outputs": [
        {
          "data": {
            "text/plain": [
              "array([5, 0, 4, ..., 5, 6, 8], dtype=uint8)"
            ]
          },
          "execution_count": 17,
          "metadata": {},
          "output_type": "execute_result"
        }
      ]
    },
    {
      "cell_type": "code",
      "metadata": {
        "colab": {
          "base_uri": "https://localhost:8080/"
        },
        "id": "Mz-cRfZm9uqw",
        "outputId": "d472f6ed-6f56-4957-8bb7-34d8fda77ce0"
      },
      "source": [
        "y_test"
      ],
      "execution_count": null,
      "outputs": [
        {
          "data": {
            "text/plain": [
              "array([7, 2, 1, ..., 4, 5, 6], dtype=uint8)"
            ]
          },
          "execution_count": 18,
          "metadata": {},
          "output_type": "execute_result"
        }
      ]
    },
    {
      "cell_type": "code",
      "metadata": {
        "id": "9gu6CQcK-FII"
      },
      "source": [
        "from keras.utils.np_utils import to_categorical"
      ],
      "execution_count": null,
      "outputs": []
    },
    {
      "cell_type": "code",
      "metadata": {
        "colab": {
          "base_uri": "https://localhost:8080/"
        },
        "id": "5y1XCOls-FEw",
        "outputId": "b00a35cf-54d9-4f9a-e30d-673478941398"
      },
      "source": [
        "y_train.shape"
      ],
      "execution_count": null,
      "outputs": [
        {
          "data": {
            "text/plain": [
              "(60000,)"
            ]
          },
          "execution_count": 20,
          "metadata": {},
          "output_type": "execute_result"
        }
      ]
    },
    {
      "cell_type": "code",
      "metadata": {
        "id": "0Zpyo-q6-FBC"
      },
      "source": [
        "y_example = to_categorical(y_train)"
      ],
      "execution_count": null,
      "outputs": []
    },
    {
      "cell_type": "code",
      "metadata": {
        "colab": {
          "base_uri": "https://localhost:8080/"
        },
        "id": "OjTJ6DeD-E9w",
        "outputId": "4200b07c-12c1-4d06-9a78-7e427fc90a4c"
      },
      "source": [
        "y_example"
      ],
      "execution_count": null,
      "outputs": [
        {
          "data": {
            "text/plain": [
              "array([[0., 0., 0., ..., 0., 0., 0.],\n",
              "       [1., 0., 0., ..., 0., 0., 0.],\n",
              "       [0., 0., 0., ..., 0., 0., 0.],\n",
              "       ...,\n",
              "       [0., 0., 0., ..., 0., 0., 0.],\n",
              "       [0., 0., 0., ..., 0., 0., 0.],\n",
              "       [0., 0., 0., ..., 0., 1., 0.]], dtype=float32)"
            ]
          },
          "execution_count": 22,
          "metadata": {},
          "output_type": "execute_result"
        }
      ]
    },
    {
      "cell_type": "code",
      "metadata": {
        "colab": {
          "base_uri": "https://localhost:8080/"
        },
        "id": "IEa5jGSM-E64",
        "outputId": "1a7e86b4-4efe-492d-af3a-f88a41bcfdb9"
      },
      "source": [
        "y_example.shape"
      ],
      "execution_count": null,
      "outputs": [
        {
          "data": {
            "text/plain": [
              "(60000, 10)"
            ]
          },
          "execution_count": 23,
          "metadata": {},
          "output_type": "execute_result"
        }
      ]
    },
    {
      "cell_type": "code",
      "metadata": {
        "colab": {
          "base_uri": "https://localhost:8080/"
        },
        "id": "pcnWN9qI_OjM",
        "outputId": "a5d7ab8a-d5de-4c1e-c872-585d409bc593"
      },
      "source": [
        "y_example[0]"
      ],
      "execution_count": null,
      "outputs": [
        {
          "data": {
            "text/plain": [
              "array([0., 0., 0., 0., 0., 1., 0., 0., 0., 0.], dtype=float32)"
            ]
          },
          "execution_count": 24,
          "metadata": {},
          "output_type": "execute_result"
        }
      ]
    },
    {
      "cell_type": "code",
      "metadata": {
        "colab": {
          "base_uri": "https://localhost:8080/"
        },
        "id": "E0xuGhNE_Ofi",
        "outputId": "d15d2ace-91f2-488c-90da-648945730094"
      },
      "source": [
        "y_example[10]\n"
      ],
      "execution_count": null,
      "outputs": [
        {
          "data": {
            "text/plain": [
              "array([0., 0., 0., 1., 0., 0., 0., 0., 0., 0.], dtype=float32)"
            ]
          },
          "execution_count": 25,
          "metadata": {},
          "output_type": "execute_result"
        }
      ]
    },
    {
      "cell_type": "code",
      "metadata": {
        "id": "0A2b22KM_Ocp"
      },
      "source": [
        "y_cp_test = to_categorical(y_test,10)"
      ],
      "execution_count": null,
      "outputs": []
    },
    {
      "cell_type": "code",
      "metadata": {
        "id": "kZoBRlNv_g8x"
      },
      "source": [
        "y_cp_train = to_categorical(y_train,10)"
      ],
      "execution_count": null,
      "outputs": []
    },
    {
      "cell_type": "markdown",
      "metadata": {
        "id": "9X8i19v0_nca"
      },
      "source": [
        "> ## Processing X data"
      ]
    },
    {
      "cell_type": "code",
      "metadata": {
        "colab": {
          "base_uri": "https://localhost:8080/"
        },
        "id": "32Eov76z_lUh",
        "outputId": "c6210af4-a371-4662-eb74-a7a9a613e872"
      },
      "source": [
        "single_image.max()"
      ],
      "execution_count": null,
      "outputs": [
        {
          "data": {
            "text/plain": [
              "254"
            ]
          },
          "execution_count": 71,
          "metadata": {},
          "output_type": "execute_result"
        }
      ]
    },
    {
      "cell_type": "code",
      "metadata": {
        "colab": {
          "base_uri": "https://localhost:8080/"
        },
        "id": "GCWYqRaH_lQ2",
        "outputId": "45335e70-59a7-49c5-a7b3-c484080fcdb4"
      },
      "source": [
        "single_image.min()"
      ],
      "execution_count": null,
      "outputs": [
        {
          "data": {
            "text/plain": [
              "0"
            ]
          },
          "execution_count": 72,
          "metadata": {},
          "output_type": "execute_result"
        }
      ]
    },
    {
      "cell_type": "code",
      "metadata": {
        "id": "kCVxUswl_lN9"
      },
      "source": [
        "#normalization\n",
        "x_train = x_train/255\n",
        "x_test = x_test/255"
      ],
      "execution_count": null,
      "outputs": []
    },
    {
      "cell_type": "code",
      "metadata": {
        "id": "CXal59E3AB8R"
      },
      "source": [
        "scaled_single = x_train[0]"
      ],
      "execution_count": null,
      "outputs": []
    },
    {
      "cell_type": "code",
      "metadata": {
        "colab": {
          "base_uri": "https://localhost:8080/"
        },
        "id": "hth_1A-UAB4_",
        "outputId": "3f083cb4-9458-449e-b939-a85fb51e0872"
      },
      "source": [
        "scaled_single.max()"
      ],
      "execution_count": null,
      "outputs": [
        {
          "data": {
            "text/plain": [
              "0.00392156862745098"
            ]
          },
          "execution_count": 75,
          "metadata": {},
          "output_type": "execute_result"
        }
      ]
    },
    {
      "cell_type": "code",
      "metadata": {
        "colab": {
          "base_uri": "https://localhost:8080/",
          "height": 283
        },
        "id": "NVKeWpvCAB1v",
        "outputId": "e14b2b44-5850-411a-db38-e69121f1d882"
      },
      "source": [
        "plt.imshow(scaled_single)"
      ],
      "execution_count": null,
      "outputs": [
        {
          "data": {
            "text/plain": [
              "<matplotlib.image.AxesImage at 0x20ff045dbe0>"
            ]
          },
          "execution_count": 76,
          "metadata": {},
          "output_type": "execute_result"
        },
        {
          "data": {
            "image/png": "[encoded data removed]",
            "text/plain": [
              "<Figure size 432x288 with 1 Axes>"
            ]
          },
          "metadata": {
            "needs_background": "light"
          },
          "output_type": "display_data"
        }
      ]
    },
    {
      "cell_type": "markdown",
      "metadata": {
        "id": "rpnwPXyqA_Kg"
      },
      "source": [
        ">## 3] Reshaping the Data"
      ]
    },
    {
      "cell_type": "code",
      "metadata": {
        "colab": {
          "base_uri": "https://localhost:8080/"
        },
        "id": "513v5_7gBD6j",
        "outputId": "5f3f8781-0c54-442d-a26b-87b2e373210f"
      },
      "source": [
        "x_train.shape"
      ],
      "execution_count": null,
      "outputs": [
        {
          "data": {
            "text/plain": [
              "(60000, 28, 28, 1)"
            ]
          },
          "execution_count": 77,
          "metadata": {},
          "output_type": "execute_result"
        }
      ]
    },
    {
      "cell_type": "code",
      "metadata": {
        "colab": {
          "base_uri": "https://localhost:8080/"
        },
        "id": "6us6mHUXABxv",
        "outputId": "f4d2a8b4-87cb-49e5-c011-1c9cd9d1b63e"
      },
      "source": [
        "x_test.shape"
      ],
      "execution_count": null,
      "outputs": [
        {
          "data": {
            "text/plain": [
              "(10000, 28, 28, 1)"
            ]
          },
          "execution_count": 78,
          "metadata": {},
          "output_type": "execute_result"
        }
      ]
    },
    {
      "cell_type": "code",
      "metadata": {
        "id": "vANpIAuXABvd"
      },
      "source": [
        "x_train = x_train.reshape(60000, 28, 28, 1)"
      ],
      "execution_count": null,
      "outputs": []
    },
    {
      "cell_type": "code",
      "metadata": {
        "colab": {
          "base_uri": "https://localhost:8080/"
        },
        "id": "hFcXXZRIBYyu",
        "outputId": "ca0cc038-0525-4360-eab2-7685b89baff8"
      },
      "source": [
        "x_train.shape"
      ],
      "execution_count": null,
      "outputs": [
        {
          "data": {
            "text/plain": [
              "(60000, 28, 28, 1)"
            ]
          },
          "execution_count": 80,
          "metadata": {},
          "output_type": "execute_result"
        }
      ]
    },
    {
      "cell_type": "code",
      "metadata": {
        "id": "aylik9CyBYvn"
      },
      "source": [
        "x_test = x_test.reshape(10000, 28, 28, 1)"
      ],
      "execution_count": null,
      "outputs": []
    },
    {
      "cell_type": "code",
      "metadata": {
        "colab": {
          "base_uri": "https://localhost:8080/"
        },
        "id": "M2WSC0iCBYrv",
        "outputId": "2eb2372f-5b45-4544-e752-d870bebaf8e3"
      },
      "source": [
        "x_test.shape"
      ],
      "execution_count": null,
      "outputs": [
        {
          "data": {
            "text/plain": [
              "(10000, 28, 28, 1)"
            ]
          },
          "execution_count": 82,
          "metadata": {},
          "output_type": "execute_result"
        }
      ]
    },
    {
      "cell_type": "markdown",
      "metadata": {
        "id": "zYYyXfkNBozz"
      },
      "source": [
        "> ## 4] Training the Model"
      ]
    },
    {
      "cell_type": "markdown",
      "metadata": {
        "id": "RqkSQDg5V6Fq"
      },
      "source": [
        " Sequential model is appropriate for a plain stack of layers where each layer has exactly one input tensor and one output tensor.\n",
        "\n",
        "The sequential API allows you to create models layer-by-layer for most problems. It is limited in that it does not allow you to create models that share layers or have multiple inputs or outputs.\n",
        "\n",
        "The functional API in Keras is an alternate way of creating models that offers a lot more flexibility, including creating more complex models.\n",
        "\n",
        "he Sequential API is a framework for creating models based on instances of the sequential() class. The model has one input variable, a hidden layer with two neurons, and an output layer with one binary output. Additional layers can be created and added to the model.\n",
        "\n",
        "![image.png](data:image/png;base64,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)"
      ]
    },
    {
      "cell_type": "code",
      "metadata": {
        "id": "Z2yrjYnJBYok"
      },
      "source": [
        "from keras.models import Sequential\n",
        "from keras.layers import Dense, Conv2D, MaxPool2D, Flatten"
      ],
      "execution_count": null,
      "outputs": []
    },
    {
      "cell_type": "code",
      "metadata": {
        "id": "lk5ZD4aOBYiF"
      },
      "source": [
        "model = Sequential()\n",
        "model.add(Conv2D(filters=32, kernel_size=(4,4), input_shape=(28, 28, 1), activation='relu'))\n",
        "model.add(MaxPool2D(pool_size=(2,2)))\n",
        "model.add(Flatten())\n",
        "model.add(Dense(128, activation='relu'))\n",
        "model.add(Dense(10, activation='softmax'))\n",
        "\n",
        "model.compile(loss='categorical_crossentropy',\n",
        "              optimizer='rmsprop',\n",
        "              metrics=['accuracy'])"
      ],
      "execution_count": null,
      "outputs": []
    },
    {
      "cell_type": "code",
      "metadata": {
        "colab": {
          "base_uri": "https://localhost:8080/"
        },
        "id": "qIO3ZPafBYXl",
        "outputId": "b2461873-9d80-4d1f-e681-36a5a871a8a0"
      },
      "source": [
        "model.summary()"
      ],
      "execution_count": null,
      "outputs": [
        {
          "name": "stdout",
          "output_type": "stream",
          "text": [
            "Model: \"sequential_1\"\n",
            "_________________________________________________________________\n",
            "Layer (type)                 Output Shape              Param #   \n",
            "=================================================================\n",
            "conv2d_1 (Conv2D)            (None, 25, 25, 32)        544       \n",
            "_________________________________________________________________\n",
            "max_pooling2d_1 (MaxPooling2 (None, 12, 12, 32)        0         \n",
            "_________________________________________________________________\n",
            "flatten_1 (Flatten)          (None, 4608)              0         \n",
            "_________________________________________________________________\n",
            "dense_2 (Dense)              (None, 128)               589952    \n",
            "_________________________________________________________________\n",
            "dense_3 (Dense)              (None, 10)                1290      \n",
            "=================================================================\n",
            "Total params: 591,786\n",
            "Trainable params: 591,786\n",
            "Non-trainable params: 0\n",
            "_________________________________________________________________\n"
          ]
        }
      ]
    },
    {
      "cell_type": "code",
      "metadata": {
        "colab": {
          "base_uri": "https://localhost:8080/"
        },
        "id": "iNBuaXehDzT8",
        "outputId": "c1b47ce7-7557-415d-e224-24a92103c9e7"
      },
      "source": [
        "model.fit(x_train, y_cp_train,epochs=10)"
      ],
      "execution_count": null,
      "outputs": [
        {
          "name": "stdout",
          "output_type": "stream",
          "text": [
            "Epoch 1/10\n",
            "1875/1875 [==============================] - 40s 21ms/step - loss: 0.7888 - accuracy: 0.7690\n",
            "Epoch 2/10\n",
            "1875/1875 [==============================] - 39s 21ms/step - loss: 0.3092 - accuracy: 0.9084\n",
            "Epoch 3/10\n",
            "1875/1875 [==============================] - 38s 20ms/step - loss: 0.2370 - accuracy: 0.9293\n",
            "Epoch 4/10\n",
            "1875/1875 [==============================] - 39s 21ms/step - loss: 0.1883 - accuracy: 0.9446\n",
            "Epoch 5/10\n",
            "1875/1875 [==============================] - 38s 20ms/step - loss: 0.1550 - accuracy: 0.9537\n",
            "Epoch 6/10\n",
            "1875/1875 [==============================] - 38s 20ms/step - loss: 0.1322 - accuracy: 0.96070s - loss: 0.1322 - accuracy: 0.96\n",
            "Epoch 7/10\n",
            "1875/1875 [==============================] - 38s 20ms/step - loss: 0.1161 - accuracy: 0.9661\n",
            "Epoch 8/10\n",
            "1875/1875 [==============================] - 38s 20ms/step - loss: 0.1033 - accuracy: 0.9689\n",
            "Epoch 9/10\n",
            "1875/1875 [==============================] - 38s 20ms/step - loss: 0.0939 - accuracy: 0.9722\n",
            "Epoch 10/10\n",
            "1875/1875 [==============================] - 38s 20ms/step - loss: 0.0854 - accuracy: 0.9746\n"
          ]
        },
        {
          "data": {
            "text/plain": [
              "<keras.callbacks.History at 0x20f9782ad00>"
            ]
          },
          "execution_count": 86,
          "metadata": {},
          "output_type": "execute_result"
        }
      ]
    },
    {
      "cell_type": "markdown",
      "metadata": {
        "id": "oKsxiYPlEGJU"
      },
      "source": [
        "> ## 5] Evaluate the model"
      ]
    },
    {
      "cell_type": "code",
      "metadata": {
        "colab": {
          "base_uri": "https://localhost:8080/"
        },
        "id": "SAGvWKS3DzQv",
        "outputId": "4f254e33-0692-4f64-94e7-81861ef98b4c"
      },
      "source": [
        "model.metrics_names"
      ],
      "execution_count": null,
      "outputs": [
        {
          "data": {
            "text/plain": [
              "['loss', 'accuracy']"
            ]
          },
          "execution_count": 87,
          "metadata": {},
          "output_type": "execute_result"
        }
      ]
    },
    {
      "cell_type": "code",
      "metadata": {
        "colab": {
          "base_uri": "https://localhost:8080/"
        },
        "id": "WGWqp44YDzNU",
        "outputId": "a0efdeb5-2e02-4ecd-a382-eb1b84cbd38a"
      },
      "source": [
        "model.evaluate(x_test, y_cp_test)"
      ],
      "execution_count": null,
      "outputs": [
        {
          "name": "stdout",
          "output_type": "stream",
          "text": [
            "313/313 [==============================] - 2s 6ms/step - loss: 0.0845 - accuracy: 0.9741\n"
          ]
        },
        {
          "data": {
            "text/plain": [
              "[0.08452604711055756, 0.9740999937057495]"
            ]
          },
          "execution_count": 88,
          "metadata": {},
          "output_type": "execute_result"
        }
      ]
    },
    {
      "cell_type": "code",
      "metadata": {
        "id": "f_GJ9xKfDzKa"
      },
      "source": [
        "from sklearn.metrics import classification_report"
      ],
      "execution_count": null,
      "outputs": []
    },
    {
      "cell_type": "code",
      "metadata": {
        "id": "blKxWooyEgSM"
      },
      "source": [
        "predictions =  model.predict(x_test)"
      ],
      "execution_count": null,
      "outputs": []
    },
    {
      "cell_type": "code",
      "metadata": {
        "id": "It7asSPQLVOU"
      },
      "source": [
        "import numpy as np"
      ],
      "execution_count": null,
      "outputs": []
    },
    {
      "cell_type": "code",
      "metadata": {
        "id": "ODkadsuKLGzV"
      },
      "source": [
        "y_pred = [np.argmax(i) for i in predictions]"
      ],
      "execution_count": null,
      "outputs": []
    },
    {
      "cell_type": "code",
      "metadata": {
        "colab": {
          "base_uri": "https://localhost:8080/"
        },
        "id": "4fjsRwpuEgO7",
        "outputId": "ae388c48-f065-4f82-feb5-a82b28c5ae59"
      },
      "source": [
        "y_cp_test.shape"
      ],
      "execution_count": null,
      "outputs": [
        {
          "data": {
            "text/plain": [
              "(10000, 10)"
            ]
          },
          "execution_count": 93,
          "metadata": {},
          "output_type": "execute_result"
        }
      ]
    },
    {
      "cell_type": "code",
      "metadata": {
        "colab": {
          "base_uri": "https://localhost:8080/"
        },
        "id": "QAL2ZN5aEzrp",
        "outputId": "e2ee4b7b-f033-4e58-af94-388fcae1d698"
      },
      "source": [
        "y_cp_test[0]"
      ],
      "execution_count": null,
      "outputs": [
        {
          "data": {
            "text/plain": [
              "array([0., 0., 0., 0., 0., 0., 0., 1., 0., 0.], dtype=float32)"
            ]
          },
          "execution_count": 94,
          "metadata": {},
          "output_type": "execute_result"
        }
      ]
    },
    {
      "cell_type": "code",
      "metadata": {
        "colab": {
          "base_uri": "https://localhost:8080/"
        },
        "id": "8-HNu4iVEzoM",
        "outputId": "d97f564a-e3cd-4e6e-e8dd-3bccae10d984"
      },
      "source": [
        "predictions[0]"
      ],
      "execution_count": null,
      "outputs": [
        {
          "data": {
            "text/plain": [
              "array([1.0190518e-06, 2.1938220e-09, 1.4893000e-04, 2.6930089e-04,\n",
              "       2.3531670e-11, 7.6450391e-08, 4.0633123e-14, 9.9957234e-01,\n",
              "       3.0277763e-06, 5.3290514e-06], dtype=float32)"
            ]
          },
          "execution_count": 95,
          "metadata": {},
          "output_type": "execute_result"
        }
      ]
    },
    {
      "cell_type": "code",
      "metadata": {
        "colab": {
          "base_uri": "https://localhost:8080/"
        },
        "id": "xTIHu_6_E6Oi",
        "outputId": "b1853e1a-16d3-4aa8-d48c-0329d014efbe"
      },
      "source": [
        "y_test"
      ],
      "execution_count": null,
      "outputs": [
        {
          "data": {
            "text/plain": [
              "array([7, 2, 1, ..., 4, 5, 6], dtype=uint8)"
            ]
          },
          "execution_count": 96,
          "metadata": {},
          "output_type": "execute_result"
        }
      ]
    },
    {
      "cell_type": "code",
      "metadata": {
        "colab": {
          "base_uri": "https://localhost:8080/"
        },
        "id": "jq5M971wE6LH",
        "outputId": "edcdaad0-cd31-4e16-cb3c-2e259c14a675"
      },
      "source": [
        "print(classification_report(y_test,y_pred))"
      ],
      "execution_count": null,
      "outputs": [
        {
          "name": "stdout",
          "output_type": "stream",
          "text": [
            "              precision    recall  f1-score   support\n",
            "\n",
            "           0       0.99      0.99      0.99       980\n",
            "           1       0.99      0.98      0.99      1135\n",
            "           2       0.95      0.98      0.97      1032\n",
            "           3       0.97      0.98      0.97      1010\n",
            "           4       0.98      0.98      0.98       982\n",
            "           5       0.97      0.97      0.97       892\n",
            "           6       0.98      0.97      0.98       958\n",
            "           7       0.97      0.97      0.97      1028\n",
            "           8       0.97      0.96      0.96       974\n",
            "           9       0.96      0.97      0.97      1009\n",
            "\n",
            "    accuracy                           0.97     10000\n",
            "   macro avg       0.97      0.97      0.97     10000\n",
            "weighted avg       0.97      0.97      0.97     10000\n",
            "\n"
          ]
        }
      ]
    },
    {
      "cell_type": "markdown",
      "metadata": {
        "id": "SgK06P-wV6F3"
      },
      "source": [
        "### Conclusion- We have got accuracy of 97% using keras sequential model on mnist dataset."
      ]
    }
  ]
}